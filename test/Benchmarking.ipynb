{
 "cells": [
  {
   "cell_type": "code",
   "execution_count": 1,
   "metadata": {},
   "outputs": [],
   "source": [
    "using BenchmarkTools"
   ]
  },
  {
   "cell_type": "code",
   "execution_count": 2,
   "metadata": {},
   "outputs": [
    {
     "name": "stderr",
     "output_type": "stream",
     "text": [
      "┌ Warning: Replacing docs for `Main.engine.gas_tset :: NTuple{4, Any}` in module `Main.engine`\n",
      "└ @ Base.Docs docs/Docs.jl:240\n",
      "┌ Warning: Replacing docs for `Main.engine.gas_tset :: NTuple{4, Any}` in module `Main.engine`\n",
      "└ @ Base.Docs docs/Docs.jl:240\n"
     ]
    },
    {
     "name": "stderr",
     "output_type": "stream",
     "text": [
      "┌ Warning: Replacing docs for `Main.engine.gas_tset :: NTuple{4, Any}` in module `Main.engine`\n",
      "└ @ Base.Docs docs/Docs.jl:240\n",
      "┌ Warning: Replacing docs for `Main.engine.gas_tset :: NTuple{4, Any}` in module `Main.engine`\n",
      "└ @ Base.Docs docs/Docs.jl:240\n"
     ]
    },
    {
     "name": "stderr",
     "output_type": "stream",
     "text": [
      "┌ Warning: Replacing docs for `Main.engine.gas_tset :: NTuple{4, Any}` in module `Main.engine`\n",
      "└ @ Base.Docs docs/Docs.jl:240\n",
      "┌ Warning: Replacing docs for `Main.engine.gas_tset :: NTuple{4, Any}` in module `Main.engine`\n",
      "└ @ Base.Docs docs/Docs.jl:240\n"
     ]
    },
    {
     "name": "stderr",
     "output_type": "stream",
     "text": [
      "┌ Warning: Replacing docs for `Main.engine.gas_tset :: NTuple{4, Any}` in module `Main.engine`\n",
      "└ @ Base.Docs docs/Docs.jl:240\n",
      "┌ Warning: Replacing docs for `Main.engine.gas_tset :: NTuple{4, Any}` in module `Main.engine`\n",
      "└ @ Base.Docs docs/Docs.jl:240\n"
     ]
    },
    {
     "name": "stderr",
     "output_type": "stream",
     "text": [
      "┌ Warning: Replacing docs for `Main.engine.gas_tset :: NTuple{4, Any}` in module `Main.engine`\n",
      "└ @ Base.Docs docs/Docs.jl:240\n",
      "┌ Warning: Replacing docs for `Main.engine.gas_tset :: NTuple{4, Any}` in module `Main.engine`\n",
      "└ @ Base.Docs docs/Docs.jl:240\n"
     ]
    },
    {
     "name": "stderr",
     "output_type": "stream",
     "text": [
      "┌ Warning: Replacing docs for `Main.engine.gas_tset :: NTuple{4, Any}` in module `Main.engine`\n",
      "└ @ Base.Docs docs/Docs.jl:240\n",
      "┌ Warning: Replacing docs for `Main.engine.gas_tset :: NTuple{4, Any}` in module `Main.engine`\n",
      "└ @ Base.Docs docs/Docs.jl:240\n"
     ]
    },
    {
     "name": "stderr",
     "output_type": "stream",
     "text": [
      "┌ Warning: Replacing docs for `Main.engine.gas_tset :: NTuple{4, Any}` in module `Main.engine`\n",
      "└ @ Base.Docs docs/Docs.jl:240\n"
     ]
    },
    {
     "data": {
      "text/plain": [
       "size_aircraft (generic function with 1 method)"
      ]
     },
     "metadata": {},
     "output_type": "display_data"
    }
   ],
   "source": [
    "include(\"../tasopt.jl\")"
   ]
  },
  {
   "attachments": {},
   "cell_type": "markdown",
   "metadata": {},
   "source": [
    "# BL code benchmark"
   ]
  },
  {
   "cell_type": "code",
   "execution_count": 10,
   "metadata": {},
   "outputs": [
    {
     "data": {
      "text/plain": [
       "1.03"
      ]
     },
     "metadata": {},
     "output_type": "display_data"
    }
   ],
   "source": [
    "# Load required inputs:\n",
    "ndim, n, ite = 60, 47, 31\n",
    "xi = vec([0.0000000000000000       0.44074620753680366        1.2190552270904040        2.3347760331235596        3.7887094567541970\n",
    "    5.5718945978404708        7.6689972125944621        10.060434488482580        12.733770402821520        15.671866977274471\n",
    "    18.842564947775848        22.211125483849631        25.740641931345998        29.392444169467371        33.126522288704130  \n",
    "    36.901964947775845        40.677407606847567        44.411485726084329        48.063287964205706        51.592812898021521\n",
    "    54.963348718681608        58.142735530561986        61.098971670733697        63.800414794198794        66.216309192726627\n",
    "    68.317498170117346        70.077257917641631        71.472178009771781        72.483011008870633        73.095418495955613\n",
    "    73.297402905362347        73.495381125374095        74.086800998417502        75.065298459040292        76.420152884300123\n",
    "    78.136520205592305        80.195595543371837        82.574819237348777        85.248124014847377        88.186220589300319\n",
    "    91.356918559801699        94.725479095875485        98.254995543371834        101.90679778149321        105.64087590072997\n",
    "    109.41631855980170        113.19176121887341        0.0000000000000000        0.0000000000000000        0.0000000000000000  \n",
    "    0.0000000000000000        0.0000000000000000        0.0000000000000000        0.0000000000000000        0.0000000000000000\n",
    "    0.0000000000000000        0.0000000000000000        0.0000000000000000        0.0000000000000000        0.0000000000000000  ]') \n",
    "    \n",
    "bi= vec([0.0000000000000000        2.4745511871254950        5.6535415917897565        9.0217956483937876        12.336388130013924        15.374699459348015        17.872596591715805        19.389265103084938        19.470334629888100        19.470334629888100\n",
    "    19.470334629888100        19.470334629888100        19.470334629888100        19.470334629888100        19.470334629888100        19.470334629888100        19.470334629888100        19.470334629888100        19.470334629888100        19.421703717200348   \n",
    "    18.696774608355046        17.220896249239004        15.166375014370439        12.722898324790991        10.088149927191735        7.4581743328295298        5.0179224470423360        2.9324013010399628        1.3388230888588288       0.34010363924408998  \n",
    "    8.5025909811022496E-002   4.2512954905511248E-002   4.2512954905511248E-002   4.2512954905511248E-002   4.2512954905511248E-002   4.2512954905511248E-002   4.2512954905511248E-002   4.2512954905511248E-002   4.2512954905511248E-002   4.2512954905511248E-002 \n",
    "    4.2512954905511248E-002   4.2512954905511248E-002   4.2512954905511248E-002   4.2512954905511248E-002   4.2512954905511248E-002   4.2512954905511248E-002   4.2512954905511248E-002   0.0000000000000000        0.0000000000000000        0.0000000000000000  \n",
    "    0.0000000000000000        0.0000000000000000        0.0000000000000000        0.0000000000000000        0.0000000000000000        0.0000000000000000        0.0000000000000000        0.0000000000000000        0.0000000000000000        0.0000000000000000]')\n",
    "    \n",
    "rni = vec([0.31533826832660750       0.57173742702119768       0.81219724788257108       0.90269258705773681       0.94672640854476298       0.97226522293211493       0.98894104468671684       0.99845196426994509       0.99999680694540605        1.0000000000000000\n",
    "        1.0000000000000000        1.0000000000000000        1.0000000000000000        1.0000000000000000        1.0000000000000000        1.0000000000000000        1.0000000000000000        1.0000000000000000       0.99999937826068330       0.99982731522838886 \n",
    "        0.99850586013772702       0.99567279498721784       0.99176744698370789       0.98718031684371466       0.98230291252748847       0.97750404726223072       0.97311231754692340       0.96940456031110123       0.96659922066293325       0.97648458361438661  \n",
    "        0.99311284771759945       0.99967206764347949        1.0000000000000000        1.0000000000000000        1.0000000000000000        1.0000000000000000        1.0000000000000000        1.0000000000000000        1.0000000000000000        1.0000000000000000   \n",
    "        1.0000000000000000        1.0000000000000000        1.0000000000000000        1.0000000000000000        1.0000000000000000        1.0000000000000000        1.0000000000000000        0.0000000000000000        0.0000000000000000        0.0000000000000000   \n",
    "        0.0000000000000000        0.0000000000000000        0.0000000000000000        0.0000000000000000        0.0000000000000000        0.0000000000000000        0.0000000000000000        0.0000000000000000        0.0000000000000000        0.0000000000000000]')  \n",
    "        \n",
    "uinv =vec([0.0000000000000000       0.41232788144791949       0.69484769448346606       0.87101389669788887       0.98128982294812661        1.0572777365191697        1.1155410538547457        1.1478334518053532        1.0397120834699256        1.0208483066788829 \n",
    "    1.0127227677468640        1.0089122361149454        1.0069272130443903        1.0059647578243049        1.0057023491673989        1.0060860938835354        1.0073117470299502        1.0101187892512191        1.0166872541232435        1.0522914806404915   \n",
    "    1.0579707508297382        1.0458008481139760        1.0251962472333744       0.99887261065736377       0.96838145651404639       0.93415127095380235       0.89482945664006042       0.84503460603174330       0.76665868462116227       0.57832861017479698\n",
    "    0.67956954870494446       0.91085945297732340       0.94987185259890972       0.96867306763204752       0.97940819877458840       0.98600310693451965       0.99023015937220771       0.99302181211083229       0.99491017491688016       0.99621419067431638  \n",
    "    0.99713156304792716       0.99778802355998475       0.99826525037457403       0.99861730269630800       0.99888057062100188       0.99907993608762147       0.99923266171096192        0.0000000000000000        0.0000000000000000        0.0000000000000000 \n",
    "    0.0000000000000000        0.0000000000000000        0.0000000000000000        0.0000000000000000        0.0000000000000000        0.0000000000000000        0.0000000000000000        0.0000000000000000        0.0000000000000000        0.0000000000000000]')\n",
    "\n",
    "\n",
    "Reyn = 7362062.6848912220 \n",
    "Mach = 0.84 \n",
    "fexcr = 1.03  "
   ]
  },
  {
   "cell_type": "code",
   "execution_count": 15,
   "metadata": {},
   "outputs": [
    {
     "data": {
      "text/plain": [
       "BenchmarkTools.Trial: 231 samples with 100 evaluations.\n",
       " Range \u001b[90m(\u001b[39m\u001b[36m\u001b[1mmin\u001b[22m\u001b[39m … \u001b[35mmax\u001b[39m\u001b[90m):  \u001b[39m\u001b[36m\u001b[1m2.445 ms\u001b[22m\u001b[39m … \u001b[35m  3.251 ms\u001b[39m  \u001b[90m┊\u001b[39m GC \u001b[90m(\u001b[39mmin … max\u001b[90m): \u001b[39m4.31% … 5.97%\n",
       " Time  \u001b[90m(\u001b[39m\u001b[34m\u001b[1mmedian\u001b[22m\u001b[39m\u001b[90m):     \u001b[39m\u001b[34m\u001b[1m2.577 ms               \u001b[22m\u001b[39m\u001b[90m┊\u001b[39m GC \u001b[90m(\u001b[39mmedian\u001b[90m):    \u001b[39m6.73%\n",
       " Time  \u001b[90m(\u001b[39m\u001b[32m\u001b[1mmean\u001b[22m\u001b[39m ± \u001b[32mσ\u001b[39m\u001b[90m):   \u001b[39m\u001b[32m\u001b[1m2.606 ms\u001b[22m\u001b[39m ± \u001b[32m127.211 μs\u001b[39m  \u001b[90m┊\u001b[39m GC \u001b[90m(\u001b[39mmean ± σ\u001b[90m):  \u001b[39m6.77% ± 1.66%\n",
       "\n",
       "  \u001b[39m \u001b[39m \u001b[39m \u001b[39m \u001b[39m \u001b[39m \u001b[39m▄\u001b[39m▃\u001b[39m█\u001b[39m▁\u001b[39m \u001b[39m▃\u001b[34m▄\u001b[39m\u001b[39m \u001b[39m▃\u001b[32m▃\u001b[39m\u001b[39m \u001b[39m \u001b[39m \u001b[39m \u001b[39m \u001b[39m \u001b[39m \u001b[39m \u001b[39m \u001b[39m \u001b[39m \u001b[39m \u001b[39m \u001b[39m \u001b[39m \u001b[39m \u001b[39m \u001b[39m \u001b[39m \u001b[39m \u001b[39m \u001b[39m \u001b[39m \u001b[39m \u001b[39m \u001b[39m \u001b[39m \u001b[39m \u001b[39m \u001b[39m \u001b[39m \u001b[39m \u001b[39m \u001b[39m \u001b[39m \u001b[39m \u001b[39m \u001b[39m \u001b[39m \u001b[39m \u001b[39m \u001b[39m \u001b[39m \u001b[39m \u001b[39m \n",
       "  \u001b[39m▄\u001b[39m▇\u001b[39m▅\u001b[39m▇\u001b[39m▆\u001b[39m▆\u001b[39m█\u001b[39m█\u001b[39m█\u001b[39m█\u001b[39m█\u001b[39m█\u001b[34m█\u001b[39m\u001b[39m▇\u001b[39m█\u001b[32m█\u001b[39m\u001b[39m▅\u001b[39m▆\u001b[39m▄\u001b[39m▇\u001b[39m▅\u001b[39m▅\u001b[39m▃\u001b[39m▅\u001b[39m▃\u001b[39m▃\u001b[39m▃\u001b[39m▁\u001b[39m▃\u001b[39m▃\u001b[39m▃\u001b[39m▃\u001b[39m▄\u001b[39m▃\u001b[39m▃\u001b[39m▁\u001b[39m▁\u001b[39m▃\u001b[39m▄\u001b[39m▁\u001b[39m▁\u001b[39m▁\u001b[39m▁\u001b[39m▁\u001b[39m▁\u001b[39m▃\u001b[39m▃\u001b[39m▃\u001b[39m▃\u001b[39m▁\u001b[39m▁\u001b[39m▁\u001b[39m▃\u001b[39m▁\u001b[39m▁\u001b[39m▁\u001b[39m▁\u001b[39m▁\u001b[39m▃\u001b[39m \u001b[39m▃\n",
       "  2.44 ms\u001b[90m         Histogram: frequency by time\u001b[39m        3.09 ms \u001b[0m\u001b[1m<\u001b[22m\n",
       "\n",
       " Memory estimate\u001b[90m: \u001b[39m\u001b[33m4.00 MiB\u001b[39m, allocs estimate\u001b[90m: \u001b[39m\u001b[33m96669\u001b[39m."
      ]
     },
     "metadata": {},
     "output_type": "display_data"
    }
   ],
   "source": [
    "b = @benchmarkable aerodynamics.blax(ndim, n, ite, xi, bi, rni, uinv, Reyn, Mach, fexcr) seconds=60 evals=100\n",
    "bench_blax = run(b)"
   ]
  },
  {
   "cell_type": "code",
   "execution_count": 16,
   "metadata": {},
   "outputs": [
    {
     "data": {
      "text/plain": [
       "BenchmarkTools.Trial: 394 samples with 100 evaluations.\n",
       " Range \u001b[90m(\u001b[39m\u001b[36m\u001b[1mmin\u001b[22m\u001b[39m … \u001b[35mmax\u001b[39m\u001b[90m):  \u001b[39m\u001b[36m\u001b[1m1.466 ms\u001b[22m\u001b[39m … \u001b[35m 1.924 ms\u001b[39m  \u001b[90m┊\u001b[39m GC \u001b[90m(\u001b[39mmin … max\u001b[90m): \u001b[39m4.68% … 3.70%\n",
       " Time  \u001b[90m(\u001b[39m\u001b[34m\u001b[1mmedian\u001b[22m\u001b[39m\u001b[90m):     \u001b[39m\u001b[34m\u001b[1m1.504 ms              \u001b[22m\u001b[39m\u001b[90m┊\u001b[39m GC \u001b[90m(\u001b[39mmedian\u001b[90m):    \u001b[39m5.29%\n",
       " Time  \u001b[90m(\u001b[39m\u001b[32m\u001b[1mmean\u001b[22m\u001b[39m ± \u001b[32mσ\u001b[39m\u001b[90m):   \u001b[39m\u001b[32m\u001b[1m1.523 ms\u001b[22m\u001b[39m ± \u001b[32m45.704 μs\u001b[39m  \u001b[90m┊\u001b[39m GC \u001b[90m(\u001b[39mmean ± σ\u001b[90m):  \u001b[39m6.23% ± 2.13%\n",
       "\n",
       "  \u001b[39m \u001b[39m \u001b[39m \u001b[39m \u001b[39m \u001b[39m▃\u001b[39m▁\u001b[39m▆\u001b[39m▆\u001b[39m▃\u001b[39m█\u001b[39m▅\u001b[39m▅\u001b[34m▄\u001b[39m\u001b[39m▁\u001b[39m \u001b[39m \u001b[39m \u001b[39m \u001b[39m \u001b[32m \u001b[39m\u001b[39m \u001b[39m \u001b[39m \u001b[39m \u001b[39m \u001b[39m \u001b[39m \u001b[39m \u001b[39m \u001b[39m \u001b[39m \u001b[39m \u001b[39m \u001b[39m \u001b[39m \u001b[39m \u001b[39m \u001b[39m \u001b[39m \u001b[39m \u001b[39m \u001b[39m \u001b[39m \u001b[39m \u001b[39m \u001b[39m \u001b[39m \u001b[39m \u001b[39m \u001b[39m \u001b[39m \u001b[39m \u001b[39m \u001b[39m \u001b[39m \u001b[39m \u001b[39m \u001b[39m \u001b[39m \n",
       "  \u001b[39m▃\u001b[39m▃\u001b[39m▆\u001b[39m▆\u001b[39m█\u001b[39m█\u001b[39m█\u001b[39m█\u001b[39m█\u001b[39m█\u001b[39m█\u001b[39m█\u001b[39m█\u001b[34m█\u001b[39m\u001b[39m█\u001b[39m▆\u001b[39m▅\u001b[39m▅\u001b[39m▄\u001b[39m▅\u001b[32m▄\u001b[39m\u001b[39m▁\u001b[39m▃\u001b[39m▅\u001b[39m▄\u001b[39m▃\u001b[39m▄\u001b[39m▃\u001b[39m▁\u001b[39m▆\u001b[39m▄\u001b[39m▇\u001b[39m▆\u001b[39m▆\u001b[39m▃\u001b[39m▆\u001b[39m▇\u001b[39m█\u001b[39m▄\u001b[39m▇\u001b[39m▆\u001b[39m▃\u001b[39m▅\u001b[39m▄\u001b[39m▃\u001b[39m▄\u001b[39m▃\u001b[39m▃\u001b[39m▃\u001b[39m▁\u001b[39m▄\u001b[39m▃\u001b[39m▁\u001b[39m▃\u001b[39m▁\u001b[39m▁\u001b[39m▃\u001b[39m▃\u001b[39m \u001b[39m▄\n",
       "  1.47 ms\u001b[90m        Histogram: frequency by time\u001b[39m        1.63 ms \u001b[0m\u001b[1m<\u001b[22m\n",
       "\n",
       " Memory estimate\u001b[90m: \u001b[39m\u001b[33m2.11 MiB\u001b[39m, allocs estimate\u001b[90m: \u001b[39m\u001b[33m44243\u001b[39m."
      ]
     },
     "metadata": {},
     "output_type": "display_data"
    }
   ],
   "source": [
    "b = @benchmarkable aerodynamics.blax2(ndim, n, ite, xi, bi, rni, uinv, Reyn, Mach, fexcr) seconds=60 evals=100\n",
    "bench_blax2 = run(b)"
   ]
  },
  {
   "cell_type": "code",
   "execution_count": 17,
   "metadata": {},
   "outputs": [
    {
     "data": {
      "text/plain": [
       "BenchmarkTools.Trial: 394 samples with 100 evaluations.\n",
       " Range \u001b[90m(\u001b[39m\u001b[36m\u001b[1mmin\u001b[22m\u001b[39m … \u001b[35mmax\u001b[39m\u001b[90m):  \u001b[39m\u001b[36m\u001b[1m1.466 ms\u001b[22m\u001b[39m … \u001b[35m 1.924 ms\u001b[39m  \u001b[90m┊\u001b[39m GC \u001b[90m(\u001b[39mmin … max\u001b[90m): \u001b[39m4.68% … 3.70%\n",
       " Time  \u001b[90m(\u001b[39m\u001b[34m\u001b[1mmedian\u001b[22m\u001b[39m\u001b[90m):     \u001b[39m\u001b[34m\u001b[1m1.504 ms              \u001b[22m\u001b[39m\u001b[90m┊\u001b[39m GC \u001b[90m(\u001b[39mmedian\u001b[90m):    \u001b[39m5.29%\n",
       " Time  \u001b[90m(\u001b[39m\u001b[32m\u001b[1mmean\u001b[22m\u001b[39m ± \u001b[32mσ\u001b[39m\u001b[90m):   \u001b[39m\u001b[32m\u001b[1m1.523 ms\u001b[22m\u001b[39m ± \u001b[32m45.704 μs\u001b[39m  \u001b[90m┊\u001b[39m GC \u001b[90m(\u001b[39mmean ± σ\u001b[90m):  \u001b[39m6.23% ± 2.13%\n",
       "\n",
       "  \u001b[39m \u001b[39m \u001b[39m \u001b[39m \u001b[39m \u001b[39m▃\u001b[39m▁\u001b[39m▆\u001b[39m▆\u001b[39m▃\u001b[39m█\u001b[39m▅\u001b[39m▅\u001b[34m▄\u001b[39m\u001b[39m▁\u001b[39m \u001b[39m \u001b[39m \u001b[39m \u001b[39m \u001b[32m \u001b[39m\u001b[39m \u001b[39m \u001b[39m \u001b[39m \u001b[39m \u001b[39m \u001b[39m \u001b[39m \u001b[39m \u001b[39m \u001b[39m \u001b[39m \u001b[39m \u001b[39m \u001b[39m \u001b[39m \u001b[39m \u001b[39m \u001b[39m \u001b[39m \u001b[39m \u001b[39m \u001b[39m \u001b[39m \u001b[39m \u001b[39m \u001b[39m \u001b[39m \u001b[39m \u001b[39m \u001b[39m \u001b[39m \u001b[39m \u001b[39m \u001b[39m \u001b[39m \u001b[39m \u001b[39m \u001b[39m \n",
       "  \u001b[39m▃\u001b[39m▃\u001b[39m▆\u001b[39m▆\u001b[39m█\u001b[39m█\u001b[39m█\u001b[39m█\u001b[39m█\u001b[39m█\u001b[39m█\u001b[39m█\u001b[39m█\u001b[34m█\u001b[39m\u001b[39m█\u001b[39m▆\u001b[39m▅\u001b[39m▅\u001b[39m▄\u001b[39m▅\u001b[32m▄\u001b[39m\u001b[39m▁\u001b[39m▃\u001b[39m▅\u001b[39m▄\u001b[39m▃\u001b[39m▄\u001b[39m▃\u001b[39m▁\u001b[39m▆\u001b[39m▄\u001b[39m▇\u001b[39m▆\u001b[39m▆\u001b[39m▃\u001b[39m▆\u001b[39m▇\u001b[39m█\u001b[39m▄\u001b[39m▇\u001b[39m▆\u001b[39m▃\u001b[39m▅\u001b[39m▄\u001b[39m▃\u001b[39m▄\u001b[39m▃\u001b[39m▃\u001b[39m▃\u001b[39m▁\u001b[39m▄\u001b[39m▃\u001b[39m▁\u001b[39m▃\u001b[39m▁\u001b[39m▁\u001b[39m▃\u001b[39m▃\u001b[39m \u001b[39m▄\n",
       "  1.47 ms\u001b[90m        Histogram: frequency by time\u001b[39m        1.63 ms \u001b[0m\u001b[1m<\u001b[22m\n",
       "\n",
       " Memory estimate\u001b[90m: \u001b[39m\u001b[33m2.11 MiB\u001b[39m, allocs estimate\u001b[90m: \u001b[39m\u001b[33m44243\u001b[39m."
      ]
     },
     "metadata": {},
     "output_type": "display_data"
    }
   ],
   "source": [
    "bench_blax2"
   ]
  },
  {
   "cell_type": "code",
   "execution_count": 22,
   "metadata": {},
   "outputs": [
    {
     "data": {
      "text/plain": [
       "BenchmarkTools.Trial: 10000 samples with 100 evaluations.\n",
       " Range \u001b[90m(\u001b[39m\u001b[36m\u001b[1mmin\u001b[22m\u001b[39m … \u001b[35mmax\u001b[39m\u001b[90m):  \u001b[39m\u001b[36m\u001b[1m21.769 μs\u001b[22m\u001b[39m … \u001b[35m129.969 μs\u001b[39m  \u001b[90m┊\u001b[39m GC \u001b[90m(\u001b[39mmin … max\u001b[90m): \u001b[39m0.00% … 80.48%\n",
       " Time  \u001b[90m(\u001b[39m\u001b[34m\u001b[1mmedian\u001b[22m\u001b[39m\u001b[90m):     \u001b[39m\u001b[34m\u001b[1m23.608 μs               \u001b[22m\u001b[39m\u001b[90m┊\u001b[39m GC \u001b[90m(\u001b[39mmedian\u001b[90m):    \u001b[39m0.00%\n",
       " Time  \u001b[90m(\u001b[39m\u001b[32m\u001b[1mmean\u001b[22m\u001b[39m ± \u001b[32mσ\u001b[39m\u001b[90m):   \u001b[39m\u001b[32m\u001b[1m24.429 μs\u001b[22m\u001b[39m ± \u001b[32m  7.683 μs\u001b[39m  \u001b[90m┊\u001b[39m GC \u001b[90m(\u001b[39mmean ± σ\u001b[90m):  \u001b[39m3.28% ±  7.86%\n",
       "\n",
       "  \u001b[39m \u001b[39m█\u001b[34m \u001b[39m\u001b[39m \u001b[39m \u001b[39m \u001b[39m \u001b[39m \u001b[39m \u001b[39m \u001b[39m \u001b[39m \u001b[39m \u001b[39m \u001b[39m \u001b[39m \u001b[39m \u001b[39m \u001b[39m \u001b[39m \u001b[39m \u001b[39m \u001b[39m \u001b[39m \u001b[39m \u001b[39m \u001b[39m \u001b[39m \u001b[39m \u001b[39m \u001b[39m \u001b[39m \u001b[39m \u001b[39m \u001b[39m \u001b[39m \u001b[39m \u001b[39m \u001b[39m \u001b[39m \u001b[39m \u001b[39m \u001b[39m \u001b[39m \u001b[39m \u001b[39m \u001b[39m \u001b[39m \u001b[39m \u001b[39m \u001b[39m \u001b[39m \u001b[39m \u001b[39m \u001b[39m \u001b[39m \u001b[39m \u001b[39m \u001b[39m \u001b[39m \u001b[39m \u001b[39m \n",
       "  \u001b[39m▄\u001b[39m█\u001b[34m▆\u001b[39m\u001b[39m▂\u001b[39m▂\u001b[39m▁\u001b[39m▂\u001b[39m▁\u001b[39m▁\u001b[39m▂\u001b[39m▁\u001b[39m▁\u001b[39m▁\u001b[39m▁\u001b[39m▁\u001b[39m▁\u001b[39m▁\u001b[39m▁\u001b[39m▁\u001b[39m▁\u001b[39m▁\u001b[39m▁\u001b[39m▁\u001b[39m▁\u001b[39m▁\u001b[39m▁\u001b[39m▁\u001b[39m▁\u001b[39m▁\u001b[39m▁\u001b[39m▁\u001b[39m▁\u001b[39m▁\u001b[39m▁\u001b[39m▁\u001b[39m▁\u001b[39m▁\u001b[39m▁\u001b[39m▁\u001b[39m▁\u001b[39m▁\u001b[39m▁\u001b[39m▁\u001b[39m▁\u001b[39m▁\u001b[39m▁\u001b[39m▁\u001b[39m▁\u001b[39m▁\u001b[39m▁\u001b[39m▁\u001b[39m▁\u001b[39m▁\u001b[39m▁\u001b[39m▁\u001b[39m▁\u001b[39m▂\u001b[39m▂\u001b[39m▂\u001b[39m▂\u001b[39m \u001b[39m▂\n",
       "  21.8 μs\u001b[90m         Histogram: frequency by time\u001b[39m         89.8 μs \u001b[0m\u001b[1m<\u001b[22m\n",
       "\n",
       " Memory estimate\u001b[90m: \u001b[39m\u001b[33m18.81 KiB\u001b[39m, allocs estimate\u001b[90m: \u001b[39m\u001b[33m15\u001b[39m."
      ]
     },
     "metadata": {},
     "output_type": "display_data"
    }
   ],
   "source": [
    "# Axisol inputs:\n",
    "#Inputs from Fortran\n",
    "xnose =    0.0000000000000000      ;\n",
    "xend =   37.795200000000001      ; \n",
    "xblend1 =   6.0960000000000001      ; \n",
    "xblend2 =   29.565600000000000      ; \n",
    "Sfuse =    13.507394174276255      ; \n",
    "anose =   1.6499999999999999      ;\n",
    "btail =   2.0000000000000000      ;\n",
    "ifclose =           0 ; \n",
    "Mach =   0.80000000000000004      ;\n",
    "nc   =           30 ; \n",
    "nbldim=          60\n",
    "xbl  =  zeros(nbldim)     # body x coordinates\n",
    "zbl  =  zeros(nbldim)     # body z coordinates\n",
    "sbl  =  zeros(nbldim)     # body + wake arc length  (BL coordinate)\n",
    "dybl =  zeros(nbldim)     # body y-offset of edge-type tail\n",
    "bbl  =  zeros(nbldim)     # transverse width (body perimeter)\n",
    "rnbl =  zeros(nbldim)     # dr/dn  (cosine of body contour angle from axis)\n",
    "uinv =  zeros(nbldim)\n",
    "\n",
    "b = @benchmarkable aerodynamics.axisol!(xnose, xend, xblend1, xblend2,\n",
    " Sfuse, anose, btail, ifclose, Mach, nc, nbldim, xbl, zbl, sbl, dybl, uinv) seconds=60 evals=10\n",
    "\n",
    "bench_axisol = run(b)"
   ]
  },
  {
   "cell_type": "code",
   "execution_count": 3,
   "metadata": {},
   "outputs": [
    {
     "name": "stdout",
     "output_type": "stream",
     "text": [
      "Seats per row = 10, rows = 22, lcabin = 54.99999999999999 ft\n"
     ]
    },
    {
     "data": {
      "text/plain": [
       "1.0e7"
      ]
     },
     "metadata": {},
     "output_type": "display_data"
    }
   ],
   "source": [
    "include(\"input.jl\")"
   ]
  },
  {
   "cell_type": "code",
   "execution_count": 30,
   "metadata": {},
   "outputs": [
    {
     "data": {
      "text/plain": [
       "BenchmarkTools.Trial: 310 samples with 50 evaluations.\n",
       " Range \u001b[90m(\u001b[39m\u001b[36m\u001b[1mmin\u001b[22m\u001b[39m … \u001b[35mmax\u001b[39m\u001b[90m):  \u001b[39m\u001b[36m\u001b[1m1.773 ms\u001b[22m\u001b[39m … \u001b[35m 2.529 ms\u001b[39m  \u001b[90m┊\u001b[39m GC \u001b[90m(\u001b[39mmin … max\u001b[90m): \u001b[39m0.00% … 7.02%\n",
       " Time  \u001b[90m(\u001b[39m\u001b[34m\u001b[1mmedian\u001b[22m\u001b[39m\u001b[90m):     \u001b[39m\u001b[34m\u001b[1m1.959 ms              \u001b[22m\u001b[39m\u001b[90m┊\u001b[39m GC \u001b[90m(\u001b[39mmedian\u001b[90m):    \u001b[39m7.33%\n",
       " Time  \u001b[90m(\u001b[39m\u001b[32m\u001b[1mmean\u001b[22m\u001b[39m ± \u001b[32mσ\u001b[39m\u001b[90m):   \u001b[39m\u001b[32m\u001b[1m1.937 ms\u001b[22m\u001b[39m ± \u001b[32m91.540 μs\u001b[39m  \u001b[90m┊\u001b[39m GC \u001b[90m(\u001b[39mmean ± σ\u001b[90m):  \u001b[39m6.16% ± 3.97%\n",
       "\n",
       "  \u001b[39m \u001b[39m \u001b[39m \u001b[39m \u001b[39m▁\u001b[39m▁\u001b[39m▅\u001b[39m▂\u001b[39m▁\u001b[39m \u001b[39m \u001b[39m \u001b[39m \u001b[39m \u001b[39m \u001b[39m \u001b[39m \u001b[39m \u001b[39m \u001b[39m \u001b[39m \u001b[39m \u001b[39m \u001b[39m \u001b[39m \u001b[39m \u001b[39m \u001b[39m \u001b[32m \u001b[39m\u001b[39m▃\u001b[39m▃\u001b[39m▅\u001b[34m▅\u001b[39m\u001b[39m▃\u001b[39m▂\u001b[39m \u001b[39m▆\u001b[39m█\u001b[39m \u001b[39m▅\u001b[39m▂\u001b[39m \u001b[39m \u001b[39m \u001b[39m \u001b[39m \u001b[39m \u001b[39m \u001b[39m \u001b[39m \u001b[39m \u001b[39m \u001b[39m \u001b[39m \u001b[39m \u001b[39m \u001b[39m \u001b[39m \u001b[39m \u001b[39m \n",
       "  \u001b[39m▃\u001b[39m▃\u001b[39m▅\u001b[39m▇\u001b[39m█\u001b[39m█\u001b[39m█\u001b[39m█\u001b[39m█\u001b[39m▄\u001b[39m▅\u001b[39m▄\u001b[39m▁\u001b[39m▁\u001b[39m▁\u001b[39m▃\u001b[39m▁\u001b[39m▁\u001b[39m▃\u001b[39m▁\u001b[39m▁\u001b[39m▁\u001b[39m▁\u001b[39m▁\u001b[39m▃\u001b[39m▃\u001b[39m▄\u001b[39m▄\u001b[32m█\u001b[39m\u001b[39m█\u001b[39m█\u001b[39m█\u001b[34m█\u001b[39m\u001b[39m█\u001b[39m█\u001b[39m█\u001b[39m█\u001b[39m█\u001b[39m▇\u001b[39m█\u001b[39m█\u001b[39m▆\u001b[39m▅\u001b[39m▄\u001b[39m▄\u001b[39m▃\u001b[39m▃\u001b[39m▄\u001b[39m▄\u001b[39m▃\u001b[39m▄\u001b[39m▃\u001b[39m▃\u001b[39m▃\u001b[39m▃\u001b[39m▁\u001b[39m▁\u001b[39m▃\u001b[39m \u001b[39m▄\n",
       "  1.77 ms\u001b[90m        Histogram: frequency by time\u001b[39m        2.11 ms \u001b[0m\u001b[1m<\u001b[22m\n",
       "\n",
       " Memory estimate\u001b[90m: \u001b[39m\u001b[33m2.62 MiB\u001b[39m, allocs estimate\u001b[90m: \u001b[39m\u001b[33m54025\u001b[39m."
      ]
     },
     "metadata": {},
     "output_type": "display_data"
    }
   ],
   "source": [
    "b2 = @benchmarkable fusebl!(pari, parg, para, ipcruise1) seconds=30 evals=50\n",
    "bench_fusebl = run(b2)"
   ]
  },
  {
   "cell_type": "code",
   "execution_count": 29,
   "metadata": {},
   "outputs": [
    {
     "data": {
      "text/plain": [
       "BenchmarkTools.Trial: 52 samples with 50 evaluations.\n",
       " Range \u001b[90m(\u001b[39m\u001b[36m\u001b[1mmin\u001b[22m\u001b[39m … \u001b[35mmax\u001b[39m\u001b[90m):  \u001b[39m\u001b[36m\u001b[1m1.797 ms\u001b[22m\u001b[39m … \u001b[35m 2.066 ms\u001b[39m  \u001b[90m┊\u001b[39m GC \u001b[90m(\u001b[39mmin … max\u001b[90m): \u001b[39m0.00% … 8.10%\n",
       " Time  \u001b[90m(\u001b[39m\u001b[34m\u001b[1mmedian\u001b[22m\u001b[39m\u001b[90m):     \u001b[39m\u001b[34m\u001b[1m1.947 ms              \u001b[22m\u001b[39m\u001b[90m┊\u001b[39m GC \u001b[90m(\u001b[39mmedian\u001b[90m):    \u001b[39m6.93%\n",
       " Time  \u001b[90m(\u001b[39m\u001b[32m\u001b[1mmean\u001b[22m\u001b[39m ± \u001b[32mσ\u001b[39m\u001b[90m):   \u001b[39m\u001b[32m\u001b[1m1.924 ms\u001b[22m\u001b[39m ± \u001b[32m67.613 μs\u001b[39m  \u001b[90m┊\u001b[39m GC \u001b[90m(\u001b[39mmean ± σ\u001b[90m):  \u001b[39m5.54% ± 3.45%\n",
       "\n",
       "  \u001b[39m \u001b[39m \u001b[39m \u001b[39m \u001b[39m \u001b[39m \u001b[39m \u001b[39m \u001b[39m \u001b[39m \u001b[39m \u001b[39m \u001b[39m \u001b[39m \u001b[39m \u001b[39m \u001b[39m \u001b[39m \u001b[39m \u001b[39m \u001b[39m \u001b[39m \u001b[39m \u001b[39m \u001b[39m \u001b[39m \u001b[39m \u001b[39m \u001b[39m \u001b[39m \u001b[39m \u001b[39m \u001b[39m \u001b[39m \u001b[32m \u001b[39m\u001b[39m \u001b[39m \u001b[39m \u001b[39m \u001b[39m█\u001b[34m \u001b[39m\u001b[39m \u001b[39m▂\u001b[39m▄\u001b[39m \u001b[39m \u001b[39m \u001b[39m \u001b[39m \u001b[39m \u001b[39m \u001b[39m \u001b[39m \u001b[39m \u001b[39m \u001b[39m \u001b[39m \u001b[39m \u001b[39m \u001b[39m \n",
       "  \u001b[39m▄\u001b[39m█\u001b[39m▆\u001b[39m▆\u001b[39m▁\u001b[39m▁\u001b[39m▆\u001b[39m▁\u001b[39m▁\u001b[39m▁\u001b[39m▁\u001b[39m▆\u001b[39m▁\u001b[39m▁\u001b[39m▄\u001b[39m▁\u001b[39m▁\u001b[39m▁\u001b[39m▁\u001b[39m▁\u001b[39m▁\u001b[39m▁\u001b[39m▁\u001b[39m▁\u001b[39m▁\u001b[39m▁\u001b[39m▁\u001b[39m▄\u001b[39m▁\u001b[39m▁\u001b[39m▁\u001b[39m▁\u001b[39m▁\u001b[39m▁\u001b[32m▁\u001b[39m\u001b[39m▆\u001b[39m▆\u001b[39m▄\u001b[39m▄\u001b[39m█\u001b[34m▆\u001b[39m\u001b[39m▄\u001b[39m█\u001b[39m█\u001b[39m█\u001b[39m▆\u001b[39m▁\u001b[39m▆\u001b[39m▄\u001b[39m▁\u001b[39m▄\u001b[39m▄\u001b[39m▄\u001b[39m▁\u001b[39m▁\u001b[39m▁\u001b[39m▁\u001b[39m▄\u001b[39m \u001b[39m▁\n",
       "  1.8 ms\u001b[90m         Histogram: frequency by time\u001b[39m        2.02 ms \u001b[0m\u001b[1m<\u001b[22m\n",
       "\n",
       " Memory estimate\u001b[90m: \u001b[39m\u001b[33m2.62 MiB\u001b[39m, allocs estimate\u001b[90m: \u001b[39m\u001b[33m54025\u001b[39m."
      ]
     },
     "metadata": {},
     "output_type": "display_data"
    }
   ],
   "source": [
    "(display(bench_fusebl))"
   ]
  },
  {
   "cell_type": "code",
   "execution_count": 6,
   "metadata": {},
   "outputs": [
    {
     "data": {
      "text/plain": [
       "1.6433078323176018"
      ]
     },
     "metadata": {},
     "output_type": "display_data"
    }
   ],
   "source": [
    "KAfTE = para[iaKAfTE, ipcruise1] # Kinetic energy area at T.E.\n",
    "DAfsurf = para[iaDAfsurf, ipcruise1] # Surface dissapation area \n",
    "DAfwake = para[iaDAfwake, ipcruise1] # Wake dissapation area\n",
    "PAfinf = para[iaPAfinf, ipcruise1] # Momentum area at ∞"
   ]
  },
  {
   "cell_type": "code",
   "execution_count": 7,
   "metadata": {},
   "outputs": [
    {
     "data": {
      "text/plain": [
       "(1.608452987867584, 1.4623702690268172, 0.1433962996627418, 1.6433078323176018)"
      ]
     },
     "metadata": {},
     "output_type": "display_data"
    }
   ],
   "source": [
    "ver1 = (KAfTE, DAfsurf, DAfwake, PAfinf)"
   ]
  },
  {
   "cell_type": "code",
   "execution_count": 8,
   "metadata": {},
   "outputs": [],
   "source": [
    "# BenchmarkTools.Trial: 589 samples with 50 evaluations.\n",
    "#  Range (min … max):  1.982 ms …   3.271 ms  ┊ GC (min … max): 3.93% … 2.76%\n",
    "#  Time  (median):     2.370 ms               ┊ GC (median):    4.41%\n",
    "#  Time  (mean ± σ):   2.380 ms ± 145.261 μs  ┊ GC (mean ± σ):  4.89% ± 1.62%\n",
    "\n",
    "#                ▁ ▃▃▂▂▄▅▇▃▆▆█▅▅▂▄▅▃▃                            \n",
    "#   ▃▂▂▁▁▂▂▁▁▄▃▄▄████████████████████▄▅▄█▅▇▄▅▃▄▂▃▁▃▂▃▁▂▂▁▁▁▁▂▁▂ ▄\n",
    "#   1.98 ms         Histogram: frequency by time         2.9 ms <\n",
    "\n",
    "#  Memory estimate: 2.62 MiB, allocs estimate: 54025."
   ]
  }
 ],
 "metadata": {
  "kernelspec": {
   "display_name": "Julia 1.8.5",
   "language": "julia",
   "name": "julia-1.8"
  },
  "language_info": {
   "file_extension": ".jl",
   "mimetype": "application/julia",
   "name": "julia",
   "version": "1.8.5"
  },
  "orig_nbformat": 4
 },
 "nbformat": 4,
 "nbformat_minor": 2
}
